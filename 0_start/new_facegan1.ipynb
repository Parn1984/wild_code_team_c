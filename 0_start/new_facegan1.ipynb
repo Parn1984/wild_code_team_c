{
 "cells": [
  {
   "cell_type": "code",
   "execution_count": null,
   "metadata": {},
   "outputs": [],
   "source": []
  },
  {
   "cell_type": "code",
   "execution_count": 1,
   "metadata": {},
   "outputs": [],
   "source": [
    "# Model functions from keras\n",
    "from keras.layers import Input\n",
    "from keras.models import Model, load_model\n",
    "from keras.optimizers import Adam\n",
    "\n",
    "# numpy for some mathematical operations\n",
    "import numpy as np\n",
    "import matplotlib.pyplot as plt\n",
    "\n",
    "# Custom functions\n",
    "from utils.gan_func import build_discriminator\n",
    "from utils.gan_func import build_generator\n",
    "from utils.gan_func import get_random_noise\n",
    "from utils.gan_func import get_training_data\n",
    "from utils.gan_func import save_images"
   ]
  },
  {
   "cell_type": "code",
   "execution_count": 2,
   "metadata": {},
   "outputs": [
    {
     "name": "stdout",
     "output_type": "stream",
     "text": [
      "/device:GPU:0\n"
     ]
    }
   ],
   "source": [
    "# To avoid GPU memory issues\n",
    "\n",
    "import tensorflow as tf\n",
    "print(tf.test.gpu_device_name())\n",
    "\n",
    "from tensorflow.compat.v1 import ConfigProto\n",
    "from tensorflow.compat.v1 import InteractiveSession\n",
    "\n",
    "config = ConfigProto()\n",
    "config.gpu_options.allow_growth = True\n",
    "session = InteractiveSession(config=config)"
   ]
  },
  {
   "cell_type": "code",
   "execution_count": null,
   "metadata": {},
   "outputs": [],
   "source": []
  },
  {
   "cell_type": "code",
   "execution_count": 3,
   "metadata": {},
   "outputs": [],
   "source": [
    "# Data Parameters\n",
    "imgs_dir = 'data'\n",
    "\n",
    "image_height, image_width, channels = 64, 64, 3\n",
    "image_shape = (image_width, image_height, channels)\n",
    "\n",
    "random_noise_dimension = 100\n",
    "rows, columns = 4, 8\n",
    "\n",
    "save_images_interval = 100\n",
    "\n",
    "target_dir = 'generated_faces'\n",
    "\n",
    "target_fn = \"/generated\"\n",
    "\n",
    "# Model parameters\n",
    "\n",
    "use_pretrained_model = False\n",
    "\n",
    "pretrained_model_path_generator = \"saved_models/face_generator.h5\"\n",
    "pretrained_model_path_discriminator = \"saved_models/face_discriminator.h5\"\n",
    "\n",
    "epochs = 5000\n",
    "batch_size = 32\n",
    "\n",
    "start_epoch = 0\n",
    "if use_pretrained_model:\n",
    "    assert (start_epoch == 0)\n"
   ]
  },
  {
   "cell_type": "code",
   "execution_count": 4,
   "metadata": {},
   "outputs": [],
   "source": [
    "d_losses=[]\n",
    "d_acc=[]\n",
    "g_losses=[]"
   ]
  },
  {
   "cell_type": "code",
   "execution_count": 10,
   "metadata": {},
   "outputs": [],
   "source": [
    "alpha, dropout, mean = 0.0, 0.0, 0.80\n",
    "optimizer = Adam(0.0002, 0.5)"
   ]
  },
  {
   "cell_type": "code",
   "execution_count": 11,
   "metadata": {},
   "outputs": [
    {
     "name": "stderr",
     "output_type": "stream",
     "text": [
      "  1%|▏         | 104/7864 [00:00<00:07, 1033.95it/s]"
     ]
    },
    {
     "name": "stdout",
     "output_type": "stream",
     "text": [
      "Loading training data...\n"
     ]
    },
    {
     "name": "stderr",
     "output_type": "stream",
     "text": [
      "100%|██████████| 7864/7864 [00:07<00:00, 1090.48it/s]\n"
     ]
    }
   ],
   "source": [
    "# Get the real images\n",
    "training_data = get_training_data.get_training_data(imgs_dir, image_width, image_height, channels)\n",
    "\n",
    "# Map all values to a range between -1 and 1.\n",
    "training_data = training_data / 127.5 - 1.\n",
    "\n",
    "# =============================================================================\n",
    "# Set up the labels for generated and real images\n",
    "# =============================================================================\n",
    "\n",
    "# Two arrays of labels. Labels for real images: [1,1,1 ... 1,1,1], \n",
    "# labels for generated images: [0,0,0 ... 0,0,0]\n",
    "labels_for_real_images = np.ones((batch_size, 1)) - 0.15\n",
    "labels_for_generated_images = np.zeros((batch_size, 1))"
   ]
  },
  {
   "cell_type": "code",
   "execution_count": 12,
   "metadata": {},
   "outputs": [],
   "source": [
    "if use_pretrained_model:\n",
    "    generator     = load_model(pretrained_model_path_generator)\n",
    "    discriminator = load_model(pretrained_model_path_discriminator)\n",
    "else:\n",
    "    generator = build_generator.build_generator(random_noise_dimension, channels, alpha=alpha, mean=mean)\n",
    "    discriminator = build_discriminator.build_discriminator(image_shape, alpha=alpha, dropout=dropout, mean=mean)\n",
    "\n",
    "discriminator.compile(loss=\"binary_crossentropy\",\n",
    "                      optimizer=optimizer,\n",
    "                      metrics=[\"accuracy\"])\n",
    "\n",
    "# Set up the actual GAN (= combined_model)\n",
    "random_input = Input(shape=(random_noise_dimension,))\n",
    "generated_image = generator(random_input)\n",
    "discriminator.trainable = False\n",
    "validity = discriminator(generated_image)\n",
    "combined_model = Model(random_input, validity)  # This is the actual GAN\n",
    "\n",
    "combined_model.compile(loss=\"binary_crossentropy\",\n",
    "                       optimizer=optimizer)"
   ]
  },
  {
   "cell_type": "code",
   "execution_count": null,
   "metadata": {},
   "outputs": [],
   "source": []
  },
  {
   "cell_type": "code",
   "execution_count": null,
   "metadata": {},
   "outputs": [],
   "source": []
  },
  {
   "cell_type": "code",
   "execution_count": 13,
   "metadata": {},
   "outputs": [
    {
     "name": "stdout",
     "output_type": "stream",
     "text": [
      "   0 [Discriminator loss: 3.097282, acc.: 0.00%] [Generator loss: 0.682393]\n",
      " 100 [Discriminator loss: 0.327767, acc.: 50.00%] [Generator loss: 0.216515]\n",
      " 200 [Discriminator loss: 0.218223, acc.: 50.00%] [Generator loss: 0.020845]\n",
      " 300 [Discriminator loss: 0.276810, acc.: 50.00%] [Generator loss: 0.044565]\n",
      " 400 [Discriminator loss: 0.231908, acc.: 50.00%] [Generator loss: 0.035560]\n",
      " 500 [Discriminator loss: 0.241407, acc.: 50.00%] [Generator loss: 0.050487]\n",
      " 600 [Discriminator loss: 0.221750, acc.: 50.00%] [Generator loss: 0.014506]\n",
      " 700 [Discriminator loss: 0.217790, acc.: 50.00%] [Generator loss: 0.023544]\n",
      " 800 [Discriminator loss: 0.246386, acc.: 50.00%] [Generator loss: 0.027375]\n",
      " 900 [Discriminator loss: 0.233137, acc.: 50.00%] [Generator loss: 0.019760]\n",
      "1000 [Discriminator loss: 0.231221, acc.: 50.00%] [Generator loss: 0.059520]\n",
      "1100 [Discriminator loss: 0.225069, acc.: 50.00%] [Generator loss: 0.041047]\n",
      "1200 [Discriminator loss: 0.222907, acc.: 50.00%] [Generator loss: 0.016738]\n",
      "1300 [Discriminator loss: 0.216733, acc.: 50.00%] [Generator loss: 0.011214]\n",
      "1400 [Discriminator loss: 0.218098, acc.: 50.00%] [Generator loss: 0.015231]\n",
      "1500 [Discriminator loss: 0.236757, acc.: 50.00%] [Generator loss: 0.023431]\n",
      "1600 [Discriminator loss: 0.237332, acc.: 50.00%] [Generator loss: 0.003880]\n",
      "1700 [Discriminator loss: 0.222093, acc.: 50.00%] [Generator loss: 0.040591]\n",
      "1800 [Discriminator loss: 0.212657, acc.: 50.00%] [Generator loss: 0.020106]\n",
      "1900 [Discriminator loss: 0.219250, acc.: 50.00%] [Generator loss: 0.031808]\n",
      "2000 [Discriminator loss: 0.219006, acc.: 50.00%] [Generator loss: 0.052564]\n",
      "2100 [Discriminator loss: 0.218322, acc.: 50.00%] [Generator loss: 0.015863]\n",
      "2200 [Discriminator loss: 0.212604, acc.: 50.00%] [Generator loss: 0.035295]\n",
      "2300 [Discriminator loss: 0.215700, acc.: 50.00%] [Generator loss: 0.016367]\n",
      "2400 [Discriminator loss: 0.239955, acc.: 50.00%] [Generator loss: 0.257728]\n",
      "2500 [Discriminator loss: 0.228002, acc.: 50.00%] [Generator loss: 0.170506]\n",
      "2600 [Discriminator loss: 0.212947, acc.: 50.00%] [Generator loss: 0.127453]\n",
      "2700 [Discriminator loss: 0.213628, acc.: 50.00%] [Generator loss: 0.132946]\n",
      "2800 [Discriminator loss: 0.214981, acc.: 50.00%] [Generator loss: 0.069718]\n",
      "2900 [Discriminator loss: 0.213084, acc.: 50.00%] [Generator loss: 0.117217]\n",
      "3000 [Discriminator loss: 0.229160, acc.: 50.00%] [Generator loss: 0.121603]\n",
      "3100 [Discriminator loss: 0.231707, acc.: 50.00%] [Generator loss: 0.151771]\n",
      "3200 [Discriminator loss: 0.215677, acc.: 50.00%] [Generator loss: 0.070467]\n",
      "3300 [Discriminator loss: 0.213264, acc.: 50.00%] [Generator loss: 0.103202]\n",
      "3400 [Discriminator loss: 0.211853, acc.: 50.00%] [Generator loss: 0.145992]\n",
      "3500 [Discriminator loss: 0.212310, acc.: 50.00%] [Generator loss: 0.170447]\n",
      "3600 [Discriminator loss: 0.221714, acc.: 50.00%] [Generator loss: 0.090294]\n",
      "3700 [Discriminator loss: 0.219244, acc.: 50.00%] [Generator loss: 0.410527]\n",
      "3800 [Discriminator loss: 0.213317, acc.: 50.00%] [Generator loss: 0.125785]\n",
      "3900 [Discriminator loss: 0.215641, acc.: 50.00%] [Generator loss: 0.146274]\n",
      "4000 [Discriminator loss: 0.211945, acc.: 50.00%] [Generator loss: 0.204964]\n",
      "4100 [Discriminator loss: 0.213586, acc.: 50.00%] [Generator loss: 0.073643]\n",
      "4200 [Discriminator loss: 0.211516, acc.: 50.00%] [Generator loss: 0.115666]\n",
      "4300 [Discriminator loss: 0.212720, acc.: 50.00%] [Generator loss: 0.093935]\n",
      "4400 [Discriminator loss: 0.212120, acc.: 50.00%] [Generator loss: 0.056991]\n",
      "4500 [Discriminator loss: 0.214212, acc.: 50.00%] [Generator loss: 0.082185]\n",
      "4600 [Discriminator loss: 0.211488, acc.: 50.00%] [Generator loss: 0.095292]\n",
      "4700 [Discriminator loss: 0.212456, acc.: 50.00%] [Generator loss: 0.065343]\n",
      "4800 [Discriminator loss: 0.217651, acc.: 50.00%] [Generator loss: 0.039691]\n",
      "4900 [Discriminator loss: 0.219505, acc.: 50.00%] [Generator loss: 2.421013]\n"
     ]
    }
   ],
   "source": [
    "# =============================================================================\n",
    "# Train GAN\n",
    "# =============================================================================\n",
    "\n",
    "for epoch in range(epochs):\n",
    "        # Select a random batch of real images\n",
    "    indices = np.random.randint(0, training_data.shape[0], batch_size)\n",
    "    real_images = training_data[indices]\n",
    "\n",
    "        # Generate random noise for a whole batch.\n",
    "    random_noise = get_random_noise.get_random_noise(rows, columns, random_noise_dimension)\n",
    "\n",
    "    discriminator.trainable = True\n",
    "\n",
    "        # Generate a batch of new images.\n",
    "    generated_images = generator.predict(random_noise)\n",
    "\n",
    "        # Train the discriminator on real images.\n",
    "    discriminator_loss_real = discriminator.train_on_batch(real_images, labels_for_real_images)\n",
    "        # Train the discriminator on generated images.\n",
    "    discriminator_loss_generated = discriminator.train_on_batch(generated_images, labels_for_generated_images)\n",
    "        # Calculate the average discriminator loss.\n",
    "    discriminator_loss = 0.5 * np.add(discriminator_loss_real, discriminator_loss_generated)\n",
    "\n",
    "        # Train the generator using the combined model. Generator tries to trick \n",
    "        # discriminator into mistaking generated images as real.\n",
    "    discriminator.trainable = False\n",
    "\n",
    "    labels_for_tricking_discriminator = np.ones((batch_size, 1))\n",
    "    generator_loss = combined_model.train_on_batch(random_noise, labels_for_tricking_discriminator)\n",
    "\n",
    "        # Training ends above (one iteration) \n",
    "        # This is only for display and saving models\n",
    "    if epoch % save_images_interval == 0:\n",
    "        save_images.save_images(epoch, random_noise_dimension, generator, target_dir, target_fn, start_epoch)\n",
    "        print(\"%4d [Discriminator loss: %f, acc.: %2.2f%%] [Generator loss: %f]\" %\n",
    "              (epoch, discriminator_loss[0], 100 * discriminator_loss[1], generator_loss))\n",
    "    d_losses.append(discriminator_loss[0])\n",
    "    d_acc.append(discriminator_loss[1])\n",
    "    g_losses.append(generator_loss)\n",
    "\n",
    "    \n",
    "        # Save the model for a later use\n",
    "    generator.save(pretrained_model_path_generator)\n",
    "    discriminator.save(pretrained_model_path_discriminator)\n"
   ]
  },
  {
   "cell_type": "code",
   "execution_count": 14,
   "metadata": {},
   "outputs": [
    {
     "data": {
      "image/png": "[encoded data removed]",
      "text/plain": [
       "<Figure size 432x288 with 1 Axes>"
      ]
     },
     "metadata": {
      "needs_background": "light"
     },
     "output_type": "display_data"
    }
   ],
   "source": [
    "plt.plot(d_losses)\n",
    "# plt.plot(d_acc)\n",
    "plt.plot(g_losses)\n",
    "plt.show()"
   ]
  },
  {
   "cell_type": "code",
   "execution_count": null,
   "metadata": {},
   "outputs": [],
   "source": []
  },
  {
   "cell_type": "code",
   "execution_count": null,
   "metadata": {},
   "outputs": [],
   "source": []
  },
  {
   "cell_type": "code",
   "execution_count": null,
   "metadata": {},
   "outputs": [],
   "source": []
  }
 ],
 "metadata": {
  "kernelspec": {
   "display_name": "Python 3",
   "language": "python",
   "name": "python3"
  },
  "language_info": {
   "codemirror_mode": {
    "name": "ipython",
    "version": 3
   },
   "file_extension": ".py",
   "mimetype": "text/x-python",
   "name": "python",
   "nbconvert_exporter": "python",
   "pygments_lexer": "ipython3",
   "version": "3.8.3"
  }
 },
 "nbformat": 4,
 "nbformat_minor": 4
}
